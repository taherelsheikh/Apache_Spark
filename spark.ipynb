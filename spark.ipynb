{
 "cells": [
  {
   "cell_type": "markdown",
   "metadata": {},
   "source": [
    " \n",
    "This is very simple code just to explore Spark and what it has to offer. I am planning on adding more functions and importing other cool Spark libraries. The dataset contains all the results in the Olympics for Track & Field. I am a former 400m runner so I am obsessed with Track and its progress over the years.\n",
    "\n"
   ]
  },
  {
   "cell_type": "code",
   "execution_count": 1,
   "metadata": {
    "collapsed": false
   },
   "outputs": [
    {
     "data": {
      "text/plain": [
       "<pyspark.context.SparkContext at 0x10994db90>"
      ]
     },
     "execution_count": 1,
     "metadata": {},
     "output_type": "execute_result"
    }
   ],
   "source": [
    "#spark context\n",
    "sc"
   ]
  },
  {
   "cell_type": "code",
   "execution_count": 2,
   "metadata": {
    "collapsed": false
   },
   "outputs": [
    {
     "data": {
      "text/plain": [
       "<pyspark.sql.session.SparkSession at 0x109a2ce90>"
      ]
     },
     "execution_count": 2,
     "metadata": {},
     "output_type": "execute_result"
    }
   ],
   "source": [
    "#spark session\n",
    "spark"
   ]
  },
  {
   "cell_type": "code",
   "execution_count": 3,
   "metadata": {
    "collapsed": false
   },
   "outputs": [
    {
     "data": {
      "text/plain": [
       "u'2.1.1'"
      ]
     },
     "execution_count": 3,
     "metadata": {},
     "output_type": "execute_result"
    }
   ],
   "source": [
    "sc.version"
   ]
  },
  {
   "cell_type": "code",
   "execution_count": 4,
   "metadata": {
    "collapsed": false
   },
   "outputs": [],
   "source": [
    "data = spark.read.csv(\"../Documents/olympics.csv\",header=True, inferSchema=True, sep=',')"
   ]
  },
  {
   "cell_type": "code",
   "execution_count": 5,
   "metadata": {
    "collapsed": false
   },
   "outputs": [
    {
     "data": {
      "text/plain": [
       "2394"
      ]
     },
     "execution_count": 5,
     "metadata": {},
     "output_type": "execute_result"
    }
   ],
   "source": [
    "data.count()"
   ]
  },
  {
   "cell_type": "code",
   "execution_count": 6,
   "metadata": {
    "collapsed": false
   },
   "outputs": [
    {
     "name": "stdout",
     "output_type": "stream",
     "text": [
      "+------+----------+--------+----+-----+--------------------+-----------+--------+\n",
      "|Gender|     Event|Location|Year|Medal|                Name|Nationality|  Result|\n",
      "+------+----------+--------+----+-----+--------------------+-----------+--------+\n",
      "|     M|10000M Men|     Rio|2016|    G|       Mohamed FARAH|        USA|25:05.17|\n",
      "|     M|10000M Men|     Rio|2016|    S|Paul Kipngetich T...|        KEN|27:05.64|\n",
      "|     M|10000M Men|     Rio|2016|    B|        Tamirat TOLA|        ETH|27:06.26|\n",
      "|     M|10000M Men| Beijing|2008|    G|     Kenenisa BEKELE|        ETH|27:01.17|\n",
      "+------+----------+--------+----+-----+--------------------+-----------+--------+\n",
      "only showing top 4 rows\n",
      "\n"
     ]
    }
   ],
   "source": [
    "data.show(4)"
   ]
  },
  {
   "cell_type": "code",
   "execution_count": 7,
   "metadata": {
    "collapsed": false
   },
   "outputs": [
    {
     "data": {
      "text/plain": [
       "2394"
      ]
     },
     "execution_count": 7,
     "metadata": {},
     "output_type": "execute_result"
    }
   ],
   "source": [
    "#number of rows\n",
    "data.count()"
   ]
  },
  {
   "cell_type": "code",
   "execution_count": 8,
   "metadata": {
    "collapsed": false
   },
   "outputs": [
    {
     "data": {
      "text/plain": [
       "[('Gender', 'string'),\n",
       " ('Event', 'string'),\n",
       " ('Location', 'string'),\n",
       " ('Year', 'int'),\n",
       " ('Medal', 'string'),\n",
       " ('Name', 'string'),\n",
       " ('Nationality', 'string'),\n",
       " ('Result', 'string')]"
      ]
     },
     "execution_count": 8,
     "metadata": {},
     "output_type": "execute_result"
    }
   ],
   "source": [
    "#data types\n",
    "data.dtypes"
   ]
  },
  {
   "cell_type": "code",
   "execution_count": 25,
   "metadata": {
    "collapsed": false
   },
   "outputs": [
    {
     "data": {
      "text/plain": [
       "DataFrame[Gender: string, Event: string, Location: string, Year: int, Medal: string, Name: string, Country: string, Result: string]"
      ]
     },
     "execution_count": 25,
     "metadata": {},
     "output_type": "execute_result"
    }
   ],
   "source": [
    "#change column name and remove nulls from Name column\n",
    "data = data.withColumnRenamed(\"Nationality\", \"Country\")\n",
    "data = data.where(data['Name'] != \"null\" )\n",
    "#Spark will branch from this dataset\n",
    "data.persist()"
   ]
  },
  {
   "cell_type": "code",
   "execution_count": 10,
   "metadata": {
    "collapsed": false
   },
   "outputs": [
    {
     "name": "stdout",
     "output_type": "stream",
     "text": [
      "+------+----------+--------+----+-----+--------------------+-------+--------+\n",
      "|Gender|     Event|Location|Year|Medal|                Name|Country|  Result|\n",
      "+------+----------+--------+----+-----+--------------------+-------+--------+\n",
      "|     M|10000M Men|     Rio|2016|    G|       Mohamed FARAH|    USA|25:05.17|\n",
      "|     M|10000M Men|     Rio|2016|    S|Paul Kipngetich T...|    KEN|27:05.64|\n",
      "|     M|10000M Men|     Rio|2016|    B|        Tamirat TOLA|    ETH|27:06.26|\n",
      "|     M|10000M Men| Beijing|2008|    G|     Kenenisa BEKELE|    ETH|27:01.17|\n",
      "|     M|10000M Men| Beijing|2008|    S|      Sileshi SIHINE|    ETH|27:02.77|\n",
      "+------+----------+--------+----+-----+--------------------+-------+--------+\n",
      "only showing top 5 rows\n",
      "\n"
     ]
    }
   ],
   "source": [
    "#drop all names recoreded as null\n",
    "data.show(5)"
   ]
  },
  {
   "cell_type": "code",
   "execution_count": 11,
   "metadata": {
    "collapsed": false
   },
   "outputs": [
    {
     "name": "stdout",
     "output_type": "stream",
     "text": [
      "+----------------+-----+\n",
      "|           Event|count|\n",
      "+----------------+-----+\n",
      "|    Marathon Men|   84|\n",
      "|        100M Men|   82|\n",
      "|        800M Men|   81|\n",
      "|       1500M Men|   81|\n",
      "|110M Hurdles Men|   80|\n",
      "+----------------+-----+\n",
      "only showing top 5 rows\n",
      "\n"
     ]
    }
   ],
   "source": [
    "#marathon number one\n",
    "data.groupBy(\"Event\").count().sort(['count'], ascending=False).show(5)"
   ]
  },
  {
   "cell_type": "code",
   "execution_count": 12,
   "metadata": {
    "collapsed": false
   },
   "outputs": [
    {
     "name": "stdout",
     "output_type": "stream",
     "text": [
      "+------------------+-----+\n",
      "|              Name|count|\n",
      "+------------------+-----+\n",
      "|     Merlene OTTEY|    7|\n",
      "|       Paavo NURMI|    7|\n",
      "|   Tirunesh DIBABA|    6|\n",
      "|        Usain BOLT|    6|\n",
      "|Irena KIRSZENSTEIN|    6|\n",
      "|     Emil ZÃTOPEK|    5|\n",
      "|    Robert GARRETT|    5|\n",
      "|     Jackie JOYNER|    5|\n",
      "|        Ralph ROSE|    5|\n",
      "|      Ville RITOLA|    5|\n",
      "+------------------+-----+\n",
      "only showing top 10 rows\n",
      "\n"
     ]
    }
   ],
   "source": [
    "#athlete with the most individaul medals\n",
    "data.groupBy(\"Name\").count().sort(['count'], ascending=False).show(10)"
   ]
  },
  {
   "cell_type": "code",
   "execution_count": 13,
   "metadata": {
    "collapsed": false
   },
   "outputs": [
    {
     "name": "stdout",
     "output_type": "stream",
     "text": [
      "+-------+-----+\n",
      "|Country|count|\n",
      "+-------+-----+\n",
      "|    USA|  578|\n",
      "|    GBR|  132|\n",
      "|    URS|  119|\n",
      "|    KEN|   85|\n",
      "|    FIN|   74|\n",
      "+-------+-----+\n",
      "only showing top 5 rows\n",
      "\n"
     ]
    }
   ],
   "source": [
    "data.groupBy(\"Country\").count().sort(['count'], ascending=False).show(5)"
   ]
  },
  {
   "cell_type": "code",
   "execution_count": 14,
   "metadata": {
    "collapsed": false
   },
   "outputs": [
    {
     "name": "stdout",
     "output_type": "stream",
     "text": [
      "+------+------------------+--------+----+-----+--------------------+-------+--------+\n",
      "|Gender|             Event|Location|Year|Medal|                Name|Country|  Result|\n",
      "+------+------------------+--------+----+-----+--------------------+-------+--------+\n",
      "|     M|        10000M Men| Beijing|2008|    B|          Micah KOGO|    KEN|27:04.11|\n",
      "|     M|        10000M Men|     Rio|2016|    G|       Mohamed FARAH|    USA|25:05.17|\n",
      "|     M|        10000M Men|     Rio|2016|    B|        Tamirat TOLA|    ETH|27:06.26|\n",
      "|     M|        10000M Men| Beijing|2008|    G|     Kenenisa BEKELE|    ETH|27:01.17|\n",
      "|     M|        10000M Men|     Rio|2016|    S|Paul Kipngetich T...|    KEN|27:05.64|\n",
      "|     M|        10000M Men| Beijing|2008|    S|      Sileshi SIHINE|    ETH|27:02.77|\n",
      "|     W|      10000M Women| Beijing|2008|    B|    Shalane FLANAGAN|    USA|30:22.22|\n",
      "|     W|      10000M Women|     Rio|2016|    S|Vivian Jepkemoi C...|    KEN|29:32.53|\n",
      "|     W|      10000M Women| Beijing|2008|    S|   Elvan ABEYLEGESSE|    TUR|29:56.34|\n",
      "|     W|      10000M Women|     Rio|2016|    G|         Almaz AYANA|    ETH|29:17.45|\n",
      "|     W|      10000M Women|     Rio|2016|    B|     Tirunesh DIBABA|    ETH|29:42.56|\n",
      "|     W|      10000M Women| Beijing|2008|    G|     Tirunesh DIBABA|    ETH|29:54.66|\n",
      "|     W|100M Hurdles Women|     Rio|2016|    S|             Nia ALI|    USA|   12.59|\n",
      "|     W|100M Hurdles Women| Beijing|2008|    G|         Dawn HARPER|    USA|   12.54|\n",
      "|     W|100M Hurdles Women|     Rio|2016|    B|      Kristi CASTLIN|    USA|   12.61|\n",
      "|     W|100M Hurdles Women| Beijing|2008|    S|       Sally PEARSON|    AUS|   12.64|\n",
      "|     W|100M Hurdles Women|     Rio|2016|    G|     Brianna ROLLINS|    USA|   12.48|\n",
      "|     W|100M Hurdles Women| Beijing|2008|    B|Priscilla LOPES-S...|    CAN|   12.64|\n",
      "|     M|          100M Men|     Rio|2016|    G|          Usain BOLT|    JAM|    9.81|\n",
      "|     M|          100M Men|     Rio|2016|    S|       Justin GATLIN|    USA|    9.89|\n",
      "+------+------------------+--------+----+-----+--------------------+-------+--------+\n",
      "only showing top 20 rows\n",
      "\n"
     ]
    }
   ],
   "source": [
    "data.where((data[\"Year\"] == 2016) | (data[\"Year\"] == 2008 )).sort([\"Event\"]).show()"
   ]
  },
  {
   "cell_type": "code",
   "execution_count": 22,
   "metadata": {
    "collapsed": false
   },
   "outputs": [
    {
     "name": "stdout",
     "output_type": "stream",
     "text": [
      "+------+--------+--------------------+----+-----+----------------+-------+------+\n",
      "|Gender|   Event|            Location|Year|Medal|            Name|Country|Result|\n",
      "+------+--------+--------------------+----+-----+----------------+-------+------+\n",
      "|     M|100M Men|                 Rio|2016|    G|      Usain BOLT|    JAM|  9.81|\n",
      "|     M|100M Men|              London|2012|    G|      Usain BOLT|    JAM|  9.63|\n",
      "|     M|100M Men|             Beijing|2008|    G|      Usain BOLT|    JAM|  9.69|\n",
      "|     M|100M Men|              Athens|2004|    G|   Justin GATLIN|    USA|  9.85|\n",
      "|     M|100M Men|              Sydney|2000|    G|  Maurice GREENE|    USA|  9.87|\n",
      "|     M|100M Men|             Atlanta|1996|    G|  Donovan BAILEY|    CAN|  9.84|\n",
      "|     M|100M Men|           Barcelona|1992|    G|Linford CHRISTIE|    GBR|  9.96|\n",
      "|     M|100M Men|         Los Angeles|1984|    G|      Carl LEWIS|    USA|  9.99|\n",
      "|     M|100M Men|              Moscow|1980|    G|     Allan WELLS|    GBR| 10.25|\n",
      "|     M|100M Men|            Montreal|1976|    G| Hasely CRAWFORD|    TTO| 10.06|\n",
      "|     M|100M Men|              Munich|1972|    G|   Valery BORZOV|    URS| 10.14|\n",
      "|     M|100M Men|              Mexico|1968|    G|       Jim HINES|    USA|   9.9|\n",
      "|     M|100M Men|               Tokyo|1964|    G|       Bob HAYES|    USA|  10.0|\n",
      "|     M|100M Men|                Rome|1960|    G|      Armin HARY|    EUA|  10.2|\n",
      "|     M|100M Men|Melbourne / Stock...|1956|    G|    Bobby MORROW|    USA|  10.5|\n",
      "|     M|100M Men|            Helsinki|1952|    G|  Lindy REMIGINO|    USA|  10.4|\n",
      "|     M|100M Men|              London|1948|    G|Harrison DILLARD|    USA|  10.3|\n",
      "|     M|100M Men|              Berlin|1936|    G|     Jesse OWENS|    USA|  10.3|\n",
      "|     M|100M Men|         Los Angeles|1932|    G|     Eddie TOLAN|    USA|  10.3|\n",
      "|     M|100M Men|           Amsterdam|1928|    G|  Percy WILLIAMS|    CAN|  10.8|\n",
      "|     M|100M Men|               Paris|1924|    G| Harold ABRAHAMS|    GBR|  10.6|\n",
      "|     M|100M Men|             Antwerp|1920|    G| Charles PADDOCK|    USA|  10.8|\n",
      "|     M|100M Men|           Stockholm|1912|    G|     Ralph CRAIG|    USA|  10.8|\n",
      "|     M|100M Men|              London|1908|    G|   Reggie WALKER|    RSA|  10.8|\n",
      "|     M|100M Men|            St Louis|1904|    G|     Archie HAHN|    USA|  11.0|\n",
      "|     M|100M Men|               Paris|1900|    G|    Frank JARVIS|    USA|  11.0|\n",
      "|     M|100M Men|              Athens|1896|    G|    Thomas BURKE|    USA|  12.0|\n",
      "+------+--------+--------------------+----+-----+----------------+-------+------+\n",
      "\n"
     ]
    }
   ],
   "source": [
    "#mens 100m progression over the years\n",
    "data.where((data[\"Event\"] == \"100M Men\") & (data[\"Medal\"] == \"G\")).sort(['Year'],ascending=False).show(27)"
   ]
  },
  {
   "cell_type": "code",
   "execution_count": 45,
   "metadata": {
    "collapsed": false
   },
   "outputs": [
    {
     "name": "stdout",
     "output_type": "stream",
     "text": [
      "+------+----------+--------------------+----+-----+--------------------+-------+------+\n",
      "|Gender|     Event|            Location|Year|Medal|                Name|Country|Result|\n",
      "+------+----------+--------------------+----+-----+--------------------+-------+------+\n",
      "|     W|100M Women|                 Rio|2016|    G|     Elaine THOMPSON|    JAM| 10.71|\n",
      "|     W|100M Women|              London|2012|    G|Shelly-Ann FRASER...|    JAM| 10.75|\n",
      "|     W|100M Women|             Beijing|2008|    G|Shelly-Ann FRASER...|    JAM| 10.78|\n",
      "|     W|100M Women|              Athens|2004|    G| Yuliya NESTSIARENKA|    BLR| 10.93|\n",
      "|     W|100M Women|             Atlanta|1996|    G|         Gail DEVERS|    USA| 10.94|\n",
      "|     W|100M Women|           Barcelona|1992|    G|         Gail DEVERS|    USA| 10.82|\n",
      "|     W|100M Women|         Los Angeles|1984|    G|      Evelyn ASHFORD|    USA| 10.97|\n",
      "|     W|100M Women|              Moscow|1980|    G|Lyudmila KONDRATYEVA|    URS| 11.06|\n",
      "|     W|100M Women|            Montreal|1976|    G|Annegret RICHTER-...|    FRG| 11.08|\n",
      "|     W|100M Women|              Munich|1972|    G|      Renate STECHER|    GDR| 11.07|\n",
      "|     W|100M Women|              Mexico|1968|    G|         Wyomia TYUS|    USA|  11.0|\n",
      "|     W|100M Women|               Tokyo|1964|    G|         Wyomia TYUS|    USA|  11.4|\n",
      "|     W|100M Women|                Rome|1960|    G|       Wilma RUDOLPH|    USA|  11.0|\n",
      "|     W|100M Women|Melbourne / Stock...|1956|    G|      Betty CUTHBERT|    AUS|  11.5|\n",
      "|     W|100M Women|            Helsinki|1952|    G|    Marjorie JACKSON|    AUS|  11.5|\n",
      "|     W|100M Women|              London|1948|    G| Fanny BLANKERS-KOEN|    NED|  11.9|\n",
      "|     W|100M Women|              Berlin|1936|    G|      Helen STEPHENS|    USA|  11.5|\n",
      "|     W|100M Women|         Los Angeles|1932|    G|Stanislawa WALASI...|    POL|  11.9|\n",
      "|     W|100M Women|           Amsterdam|1928|    G|  Elizabeth ROBINSON|    USA|  12.2|\n",
      "+------+----------+--------------------+----+-----+--------------------+-------+------+\n",
      "\n"
     ]
    }
   ],
   "source": [
    "#womens 100m progression over the years\n",
    "data.where((data[\"Event\"] == \"100M Women\") & (data[\"Medal\"] == \"G\")).sort(['Year'],ascending=False).show(27)"
   ]
  },
  {
   "cell_type": "code",
   "execution_count": 57,
   "metadata": {
    "collapsed": false
   },
   "outputs": [
    {
     "name": "stdout",
     "output_type": "stream",
     "text": [
      "+------+--------+--------------------+----+-----+--------------------+-------+------+\n",
      "|Gender|   Event|            Location|Year|Medal|                Name|Country|Result|\n",
      "+------+--------+--------------------+----+-----+--------------------+-------+------+\n",
      "|     M|400M Men|                 Rio|2016|    G|   Wayde VAN NIEKERK|    RSA| 43.03|\n",
      "|     M|400M Men|              London|2012|    G|        Kirani JAMES|    GRN| 43.94|\n",
      "|     M|400M Men|             Beijing|2008|    G|     Lashawn MERRITT|    USA| 43.75|\n",
      "|     M|400M Men|              Athens|2004|    G|      Jeremy WARINER|    USA|  44.0|\n",
      "|     M|400M Men|              Sydney|2000|    G|     Michael JOHNSON|    USA| 43.84|\n",
      "|     M|400M Men|             Atlanta|1996|    G|     Michael JOHNSON|    USA| 43.49|\n",
      "|     M|400M Men|           Barcelona|1992|    G|        Quincy WATTS|    USA|  43.5|\n",
      "|     M|400M Men|         Los Angeles|1984|    G|       Alonzo BABERS|    USA| 44.27|\n",
      "|     M|400M Men|              Moscow|1980|    G|       Viktor MARKIN|    URS|  44.6|\n",
      "|     M|400M Men|            Montreal|1976|    G|  Alberto JUANTORENA|    CUB| 44.26|\n",
      "|     M|400M Men|              Munich|1972|    G|      Vince MATTHEWS|    USA| 44.66|\n",
      "|     M|400M Men|              Mexico|1968|    G|           Lee EVANS|    USA|  43.8|\n",
      "|     M|400M Men|               Tokyo|1964|    G|       Mike LARRABEE|    USA|  45.1|\n",
      "|     M|400M Men|                Rome|1960|    G|          Otis DAVIS|    USA|  44.9|\n",
      "|     M|400M Men|Melbourne / Stock...|1956|    G|     Charles JENKINS|    USA|  46.7|\n",
      "|     M|400M Men|            Helsinki|1952|    G|       George RHODEN|    JAM|  45.9|\n",
      "|     M|400M Men|              London|1948|    G|         Arthur WINT|    JAM|  46.2|\n",
      "|     M|400M Men|              Berlin|1936|    G|Archibald Frankli...|    USA|  46.5|\n",
      "|     M|400M Men|         Los Angeles|1932|    G| William Arthur CARR|    USA|  46.2|\n",
      "|     M|400M Men|           Amsterdam|1928|    G|Raymond James BAR...|    USA|  47.8|\n",
      "|     M|400M Men|               Paris|1924|    G|        Eric LIDDELL|    GBR|  47.6|\n",
      "|     M|400M Men|             Antwerp|1920|    G|          Bevil RUDD|    RSA|0:49.6|\n",
      "|     M|400M Men|           Stockholm|1912|    G|    Charles REIDPATH|    USA|0:48.2|\n",
      "|     M|400M Men|              London|1908|    G|   Wyndham HALSWELLE|    GBR|  50.0|\n",
      "|     M|400M Men|            St Louis|1904|    G|       Harry HILLMAN|    USA|  49.2|\n",
      "|     M|400M Men|               Paris|1900|    G|Maxwell Warburn LONG|    USA|  49.4|\n",
      "|     M|400M Men|              Athens|1896|    G|        Thomas BURKE|    USA|  54.2|\n",
      "+------+--------+--------------------+----+-----+--------------------+-------+------+\n",
      "\n"
     ]
    }
   ],
   "source": [
    "#They dont call it the Mens killer for nothing.\n",
    "data.where((data[\"Event\"] == \"400M Men\") & (data[\"Medal\"] == \"G\")).sort(['Year'],ascending=False).show(27)"
   ]
  },
  {
   "cell_type": "code",
   "execution_count": null,
   "metadata": {
    "collapsed": true
   },
   "outputs": [],
   "source": []
  }
 ],
 "metadata": {
  "anaconda-cloud": {},
  "kernelspec": {
   "display_name": "Python [default]",
   "language": "python",
   "name": "python2"
  },
  "language_info": {
   "codemirror_mode": {
    "name": "ipython",
    "version": 2
   },
   "file_extension": ".py",
   "mimetype": "text/x-python",
   "name": "python",
   "nbconvert_exporter": "python",
   "pygments_lexer": "ipython2",
   "version": "2.7.12"
  }
 },
 "nbformat": 4,
 "nbformat_minor": 1
}
